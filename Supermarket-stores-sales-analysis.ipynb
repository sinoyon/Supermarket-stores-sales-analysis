{
 "cells": [
  {
   "cell_type": "markdown",
   "id": "40a41be9",
   "metadata": {
    "papermill": {
     "duration": 0.007701,
     "end_time": "2022-06-11T13:36:53.217411",
     "exception": false,
     "start_time": "2022-06-11T13:36:53.209710",
     "status": "completed"
    },
    "tags": []
   },
   "source": [
    "**IMPORTING LIBRARIES AND LOADING DATA**"
   ]
  },
  {
   "cell_type": "code",
   "execution_count": 1,
   "id": "70e2609c",
   "metadata": {
    "execution": {
     "iopub.execute_input": "2022-06-11T13:36:53.227566Z",
     "iopub.status.busy": "2022-06-11T13:36:53.226962Z",
     "iopub.status.idle": "2022-06-11T13:36:54.243872Z",
     "shell.execute_reply": "2022-06-11T13:36:54.243263Z"
    },
    "papermill": {
     "duration": 1.024423,
     "end_time": "2022-06-11T13:36:54.246021",
     "exception": false,
     "start_time": "2022-06-11T13:36:53.221598",
     "status": "completed"
    },
    "tags": []
   },
   "outputs": [
    {
     "name": "stdout",
     "output_type": "stream",
     "text": [
      "/kaggle/input/stores-area-and-sales-data/Stores.csv\n"
     ]
    }
   ],
   "source": [
    "import numpy as np\n",
    "import pandas as pd \n",
    "import matplotlib as mpl\n",
    "import matplotlib.pyplot as plt\n",
    "%matplotlib inline\n",
    "import seaborn as sns\n",
    "import missingno as msno\n",
    "import os\n",
    "for dirname, _, filenames in os.walk('/kaggle/input'):\n",
    "    for filename in filenames:\n",
    "        print(os.path.join(dirname, filename))\n"
   ]
  },
  {
   "cell_type": "code",
   "execution_count": 2,
   "id": "82329eca",
   "metadata": {
    "execution": {
     "iopub.execute_input": "2022-06-11T13:36:54.255628Z",
     "iopub.status.busy": "2022-06-11T13:36:54.255210Z",
     "iopub.status.idle": "2022-06-11T13:36:54.268860Z",
     "shell.execute_reply": "2022-06-11T13:36:54.268179Z"
    },
    "papermill": {
     "duration": 0.02037,
     "end_time": "2022-06-11T13:36:54.270699",
     "exception": false,
     "start_time": "2022-06-11T13:36:54.250329",
     "status": "completed"
    },
    "tags": []
   },
   "outputs": [],
   "source": [
    "df = pd.read_csv('../input/stores-area-and-sales-data/Stores.csv')"
   ]
  },
  {
   "cell_type": "code",
   "execution_count": 3,
   "id": "1565b86b",
   "metadata": {
    "execution": {
     "iopub.execute_input": "2022-06-11T13:36:54.279876Z",
     "iopub.status.busy": "2022-06-11T13:36:54.279601Z",
     "iopub.status.idle": "2022-06-11T13:36:54.301118Z",
     "shell.execute_reply": "2022-06-11T13:36:54.300007Z"
    },
    "papermill": {
     "duration": 0.028938,
     "end_time": "2022-06-11T13:36:54.303652",
     "exception": false,
     "start_time": "2022-06-11T13:36:54.274714",
     "status": "completed"
    },
    "tags": []
   },
   "outputs": [
    {
     "name": "stdout",
     "output_type": "stream",
     "text": [
      "<class 'pandas.core.frame.DataFrame'>\n",
      "RangeIndex: 896 entries, 0 to 895\n",
      "Data columns (total 5 columns):\n",
      " #   Column                Non-Null Count  Dtype\n",
      "---  ------                --------------  -----\n",
      " 0   Store ID              896 non-null    int64\n",
      " 1   Store_Area            896 non-null    int64\n",
      " 2   Items_Available       896 non-null    int64\n",
      " 3   Daily_Customer_Count  896 non-null    int64\n",
      " 4   Store_Sales           896 non-null    int64\n",
      "dtypes: int64(5)\n",
      "memory usage: 35.1 KB\n"
     ]
    }
   ],
   "source": [
    "df.info()"
   ]
  },
  {
   "cell_type": "code",
   "execution_count": 4,
   "id": "030707d7",
   "metadata": {
    "execution": {
     "iopub.execute_input": "2022-06-11T13:36:54.314330Z",
     "iopub.status.busy": "2022-06-11T13:36:54.313764Z",
     "iopub.status.idle": "2022-06-11T13:36:54.326405Z",
     "shell.execute_reply": "2022-06-11T13:36:54.325610Z"
    },
    "papermill": {
     "duration": 0.019356,
     "end_time": "2022-06-11T13:36:54.328088",
     "exception": false,
     "start_time": "2022-06-11T13:36:54.308732",
     "status": "completed"
    },
    "tags": []
   },
   "outputs": [
    {
     "data": {
      "text/html": [
       "<div>\n",
       "<style scoped>\n",
       "    .dataframe tbody tr th:only-of-type {\n",
       "        vertical-align: middle;\n",
       "    }\n",
       "\n",
       "    .dataframe tbody tr th {\n",
       "        vertical-align: top;\n",
       "    }\n",
       "\n",
       "    .dataframe thead th {\n",
       "        text-align: right;\n",
       "    }\n",
       "</style>\n",
       "<table border=\"1\" class=\"dataframe\">\n",
       "  <thead>\n",
       "    <tr style=\"text-align: right;\">\n",
       "      <th></th>\n",
       "      <th>Store ID</th>\n",
       "      <th>Store_Area</th>\n",
       "      <th>Items_Available</th>\n",
       "      <th>Daily_Customer_Count</th>\n",
       "      <th>Store_Sales</th>\n",
       "    </tr>\n",
       "  </thead>\n",
       "  <tbody>\n",
       "    <tr>\n",
       "      <th>0</th>\n",
       "      <td>1</td>\n",
       "      <td>1659</td>\n",
       "      <td>1961</td>\n",
       "      <td>530</td>\n",
       "      <td>66490</td>\n",
       "    </tr>\n",
       "    <tr>\n",
       "      <th>1</th>\n",
       "      <td>2</td>\n",
       "      <td>1461</td>\n",
       "      <td>1752</td>\n",
       "      <td>210</td>\n",
       "      <td>39820</td>\n",
       "    </tr>\n",
       "    <tr>\n",
       "      <th>2</th>\n",
       "      <td>3</td>\n",
       "      <td>1340</td>\n",
       "      <td>1609</td>\n",
       "      <td>720</td>\n",
       "      <td>54010</td>\n",
       "    </tr>\n",
       "    <tr>\n",
       "      <th>3</th>\n",
       "      <td>4</td>\n",
       "      <td>1451</td>\n",
       "      <td>1748</td>\n",
       "      <td>620</td>\n",
       "      <td>53730</td>\n",
       "    </tr>\n",
       "    <tr>\n",
       "      <th>4</th>\n",
       "      <td>5</td>\n",
       "      <td>1770</td>\n",
       "      <td>2111</td>\n",
       "      <td>450</td>\n",
       "      <td>46620</td>\n",
       "    </tr>\n",
       "  </tbody>\n",
       "</table>\n",
       "</div>"
      ],
      "text/plain": [
       "   Store ID   Store_Area  Items_Available  Daily_Customer_Count  Store_Sales\n",
       "0          1        1659             1961                   530        66490\n",
       "1          2        1461             1752                   210        39820\n",
       "2          3        1340             1609                   720        54010\n",
       "3          4        1451             1748                   620        53730\n",
       "4          5        1770             2111                   450        46620"
      ]
     },
     "execution_count": 4,
     "metadata": {},
     "output_type": "execute_result"
    }
   ],
   "source": [
    "df.head()"
   ]
  },
  {
   "cell_type": "code",
   "execution_count": 5,
   "id": "593c847f",
   "metadata": {
    "execution": {
     "iopub.execute_input": "2022-06-11T13:36:54.337960Z",
     "iopub.status.busy": "2022-06-11T13:36:54.337393Z",
     "iopub.status.idle": "2022-06-11T13:36:54.343570Z",
     "shell.execute_reply": "2022-06-11T13:36:54.342848Z"
    },
    "papermill": {
     "duration": 0.012796,
     "end_time": "2022-06-11T13:36:54.345233",
     "exception": false,
     "start_time": "2022-06-11T13:36:54.332437",
     "status": "completed"
    },
    "tags": []
   },
   "outputs": [
    {
     "data": {
      "text/plain": [
       "Store ID                0\n",
       "Store_Area              0\n",
       "Items_Available         0\n",
       "Daily_Customer_Count    0\n",
       "Store_Sales             0\n",
       "dtype: int64"
      ]
     },
     "execution_count": 5,
     "metadata": {},
     "output_type": "execute_result"
    }
   ],
   "source": [
    "df.isnull().sum()"
   ]
  },
  {
   "cell_type": "code",
   "execution_count": 6,
   "id": "98e747d9",
   "metadata": {
    "execution": {
     "iopub.execute_input": "2022-06-11T13:36:54.354840Z",
     "iopub.status.busy": "2022-06-11T13:36:54.354553Z",
     "iopub.status.idle": "2022-06-11T13:36:54.363161Z",
     "shell.execute_reply": "2022-06-11T13:36:54.362608Z"
    },
    "papermill": {
     "duration": 0.015121,
     "end_time": "2022-06-11T13:36:54.364621",
     "exception": false,
     "start_time": "2022-06-11T13:36:54.349500",
     "status": "completed"
    },
    "tags": []
   },
   "outputs": [
    {
     "data": {
      "text/plain": [
       "0      False\n",
       "1      False\n",
       "2      False\n",
       "3      False\n",
       "4      False\n",
       "       ...  \n",
       "891    False\n",
       "892    False\n",
       "893    False\n",
       "894    False\n",
       "895    False\n",
       "Length: 896, dtype: bool"
      ]
     },
     "execution_count": 6,
     "metadata": {},
     "output_type": "execute_result"
    }
   ],
   "source": [
    "df.duplicated()"
   ]
  },
  {
   "cell_type": "markdown",
   "id": "fd13c000",
   "metadata": {
    "papermill": {
     "duration": 0.0042,
     "end_time": "2022-06-11T13:36:54.373204",
     "exception": false,
     "start_time": "2022-06-11T13:36:54.369004",
     "status": "completed"
    },
    "tags": []
   },
   "source": [
    "**EXPLORATORY DATA ANALYSIS**"
   ]
  },
  {
   "cell_type": "code",
   "execution_count": 7,
   "id": "f2e7cc78",
   "metadata": {
    "execution": {
     "iopub.execute_input": "2022-06-11T13:36:54.383396Z",
     "iopub.status.busy": "2022-06-11T13:36:54.382716Z",
     "iopub.status.idle": "2022-06-11T13:36:54.406019Z",
     "shell.execute_reply": "2022-06-11T13:36:54.405253Z"
    },
    "papermill": {
     "duration": 0.030405,
     "end_time": "2022-06-11T13:36:54.407938",
     "exception": false,
     "start_time": "2022-06-11T13:36:54.377533",
     "status": "completed"
    },
    "tags": []
   },
   "outputs": [
    {
     "data": {
      "text/html": [
       "<div>\n",
       "<style scoped>\n",
       "    .dataframe tbody tr th:only-of-type {\n",
       "        vertical-align: middle;\n",
       "    }\n",
       "\n",
       "    .dataframe tbody tr th {\n",
       "        vertical-align: top;\n",
       "    }\n",
       "\n",
       "    .dataframe thead th {\n",
       "        text-align: right;\n",
       "    }\n",
       "</style>\n",
       "<table border=\"1\" class=\"dataframe\">\n",
       "  <thead>\n",
       "    <tr style=\"text-align: right;\">\n",
       "      <th></th>\n",
       "      <th>Store ID</th>\n",
       "      <th>Store_Area</th>\n",
       "      <th>Items_Available</th>\n",
       "      <th>Daily_Customer_Count</th>\n",
       "      <th>Store_Sales</th>\n",
       "    </tr>\n",
       "  </thead>\n",
       "  <tbody>\n",
       "    <tr>\n",
       "      <th>count</th>\n",
       "      <td>896.000000</td>\n",
       "      <td>896.000000</td>\n",
       "      <td>896.000000</td>\n",
       "      <td>896.000000</td>\n",
       "      <td>896.000000</td>\n",
       "    </tr>\n",
       "    <tr>\n",
       "      <th>mean</th>\n",
       "      <td>448.500000</td>\n",
       "      <td>1485.409598</td>\n",
       "      <td>1782.035714</td>\n",
       "      <td>786.350446</td>\n",
       "      <td>59351.305804</td>\n",
       "    </tr>\n",
       "    <tr>\n",
       "      <th>std</th>\n",
       "      <td>258.797218</td>\n",
       "      <td>250.237011</td>\n",
       "      <td>299.872053</td>\n",
       "      <td>265.389281</td>\n",
       "      <td>17190.741895</td>\n",
       "    </tr>\n",
       "    <tr>\n",
       "      <th>min</th>\n",
       "      <td>1.000000</td>\n",
       "      <td>775.000000</td>\n",
       "      <td>932.000000</td>\n",
       "      <td>10.000000</td>\n",
       "      <td>14920.000000</td>\n",
       "    </tr>\n",
       "    <tr>\n",
       "      <th>25%</th>\n",
       "      <td>224.750000</td>\n",
       "      <td>1316.750000</td>\n",
       "      <td>1575.500000</td>\n",
       "      <td>600.000000</td>\n",
       "      <td>46530.000000</td>\n",
       "    </tr>\n",
       "    <tr>\n",
       "      <th>50%</th>\n",
       "      <td>448.500000</td>\n",
       "      <td>1477.000000</td>\n",
       "      <td>1773.500000</td>\n",
       "      <td>780.000000</td>\n",
       "      <td>58605.000000</td>\n",
       "    </tr>\n",
       "    <tr>\n",
       "      <th>75%</th>\n",
       "      <td>672.250000</td>\n",
       "      <td>1653.500000</td>\n",
       "      <td>1982.750000</td>\n",
       "      <td>970.000000</td>\n",
       "      <td>71872.500000</td>\n",
       "    </tr>\n",
       "    <tr>\n",
       "      <th>max</th>\n",
       "      <td>896.000000</td>\n",
       "      <td>2229.000000</td>\n",
       "      <td>2667.000000</td>\n",
       "      <td>1560.000000</td>\n",
       "      <td>116320.000000</td>\n",
       "    </tr>\n",
       "  </tbody>\n",
       "</table>\n",
       "</div>"
      ],
      "text/plain": [
       "        Store ID    Store_Area  Items_Available  Daily_Customer_Count  \\\n",
       "count  896.000000   896.000000       896.000000            896.000000   \n",
       "mean   448.500000  1485.409598      1782.035714            786.350446   \n",
       "std    258.797218   250.237011       299.872053            265.389281   \n",
       "min      1.000000   775.000000       932.000000             10.000000   \n",
       "25%    224.750000  1316.750000      1575.500000            600.000000   \n",
       "50%    448.500000  1477.000000      1773.500000            780.000000   \n",
       "75%    672.250000  1653.500000      1982.750000            970.000000   \n",
       "max    896.000000  2229.000000      2667.000000           1560.000000   \n",
       "\n",
       "         Store_Sales  \n",
       "count     896.000000  \n",
       "mean    59351.305804  \n",
       "std     17190.741895  \n",
       "min     14920.000000  \n",
       "25%     46530.000000  \n",
       "50%     58605.000000  \n",
       "75%     71872.500000  \n",
       "max    116320.000000  "
      ]
     },
     "execution_count": 7,
     "metadata": {},
     "output_type": "execute_result"
    }
   ],
   "source": [
    "df.describe()"
   ]
  },
  {
   "cell_type": "code",
   "execution_count": 8,
   "id": "60e685d0",
   "metadata": {
    "execution": {
     "iopub.execute_input": "2022-06-11T13:36:54.419094Z",
     "iopub.status.busy": "2022-06-11T13:36:54.418629Z",
     "iopub.status.idle": "2022-06-11T13:36:54.425031Z",
     "shell.execute_reply": "2022-06-11T13:36:54.424291Z"
    },
    "papermill": {
     "duration": 0.014002,
     "end_time": "2022-06-11T13:36:54.426794",
     "exception": false,
     "start_time": "2022-06-11T13:36:54.412792",
     "status": "completed"
    },
    "tags": []
   },
   "outputs": [],
   "source": [
    "df['total_monthly_customers_count'] = df['Daily_Customer_Count'] * 30\n",
    "df['avg_customer_spend_day'] = df['Store_Sales'] / df['total_monthly_customers_count']\n",
    "df['avg_customer_spend_month'] = df['Store_Sales'] / df['Daily_Customer_Count']\n",
    "df['avg_daily_sales'] = df['Store_Sales'] / 30\n"
   ]
  },
  {
   "cell_type": "code",
   "execution_count": 9,
   "id": "d9653e80",
   "metadata": {
    "execution": {
     "iopub.execute_input": "2022-06-11T13:36:54.437076Z",
     "iopub.status.busy": "2022-06-11T13:36:54.436767Z",
     "iopub.status.idle": "2022-06-11T13:36:54.446736Z",
     "shell.execute_reply": "2022-06-11T13:36:54.446220Z"
    },
    "papermill": {
     "duration": 0.016886,
     "end_time": "2022-06-11T13:36:54.448216",
     "exception": false,
     "start_time": "2022-06-11T13:36:54.431330",
     "status": "completed"
    },
    "tags": []
   },
   "outputs": [
    {
     "data": {
      "text/html": [
       "<div>\n",
       "<style scoped>\n",
       "    .dataframe tbody tr th:only-of-type {\n",
       "        vertical-align: middle;\n",
       "    }\n",
       "\n",
       "    .dataframe tbody tr th {\n",
       "        vertical-align: top;\n",
       "    }\n",
       "\n",
       "    .dataframe thead th {\n",
       "        text-align: right;\n",
       "    }\n",
       "</style>\n",
       "<table border=\"1\" class=\"dataframe\">\n",
       "  <thead>\n",
       "    <tr style=\"text-align: right;\">\n",
       "      <th></th>\n",
       "      <th>Store ID</th>\n",
       "      <th>Store_Area</th>\n",
       "      <th>Items_Available</th>\n",
       "      <th>Daily_Customer_Count</th>\n",
       "      <th>Store_Sales</th>\n",
       "      <th>total_monthly_customers_count</th>\n",
       "      <th>avg_customer_spend_day</th>\n",
       "      <th>avg_customer_spend_month</th>\n",
       "      <th>avg_daily_sales</th>\n",
       "    </tr>\n",
       "  </thead>\n",
       "  <tbody>\n",
       "    <tr>\n",
       "      <th>0</th>\n",
       "      <td>1</td>\n",
       "      <td>1659</td>\n",
       "      <td>1961</td>\n",
       "      <td>530</td>\n",
       "      <td>66490</td>\n",
       "      <td>15900</td>\n",
       "      <td>4.181761</td>\n",
       "      <td>125.452830</td>\n",
       "      <td>2216.333333</td>\n",
       "    </tr>\n",
       "    <tr>\n",
       "      <th>1</th>\n",
       "      <td>2</td>\n",
       "      <td>1461</td>\n",
       "      <td>1752</td>\n",
       "      <td>210</td>\n",
       "      <td>39820</td>\n",
       "      <td>6300</td>\n",
       "      <td>6.320635</td>\n",
       "      <td>189.619048</td>\n",
       "      <td>1327.333333</td>\n",
       "    </tr>\n",
       "    <tr>\n",
       "      <th>2</th>\n",
       "      <td>3</td>\n",
       "      <td>1340</td>\n",
       "      <td>1609</td>\n",
       "      <td>720</td>\n",
       "      <td>54010</td>\n",
       "      <td>21600</td>\n",
       "      <td>2.500463</td>\n",
       "      <td>75.013889</td>\n",
       "      <td>1800.333333</td>\n",
       "    </tr>\n",
       "    <tr>\n",
       "      <th>3</th>\n",
       "      <td>4</td>\n",
       "      <td>1451</td>\n",
       "      <td>1748</td>\n",
       "      <td>620</td>\n",
       "      <td>53730</td>\n",
       "      <td>18600</td>\n",
       "      <td>2.888710</td>\n",
       "      <td>86.661290</td>\n",
       "      <td>1791.000000</td>\n",
       "    </tr>\n",
       "    <tr>\n",
       "      <th>4</th>\n",
       "      <td>5</td>\n",
       "      <td>1770</td>\n",
       "      <td>2111</td>\n",
       "      <td>450</td>\n",
       "      <td>46620</td>\n",
       "      <td>13500</td>\n",
       "      <td>3.453333</td>\n",
       "      <td>103.600000</td>\n",
       "      <td>1554.000000</td>\n",
       "    </tr>\n",
       "  </tbody>\n",
       "</table>\n",
       "</div>"
      ],
      "text/plain": [
       "   Store ID   Store_Area  Items_Available  Daily_Customer_Count  Store_Sales  \\\n",
       "0          1        1659             1961                   530        66490   \n",
       "1          2        1461             1752                   210        39820   \n",
       "2          3        1340             1609                   720        54010   \n",
       "3          4        1451             1748                   620        53730   \n",
       "4          5        1770             2111                   450        46620   \n",
       "\n",
       "   total_monthly_customers_count  avg_customer_spend_day  \\\n",
       "0                          15900                4.181761   \n",
       "1                           6300                6.320635   \n",
       "2                          21600                2.500463   \n",
       "3                          18600                2.888710   \n",
       "4                          13500                3.453333   \n",
       "\n",
       "   avg_customer_spend_month  avg_daily_sales  \n",
       "0                125.452830      2216.333333  \n",
       "1                189.619048      1327.333333  \n",
       "2                 75.013889      1800.333333  \n",
       "3                 86.661290      1791.000000  \n",
       "4                103.600000      1554.000000  "
      ]
     },
     "execution_count": 9,
     "metadata": {},
     "output_type": "execute_result"
    }
   ],
   "source": [
    "df.head()"
   ]
  },
  {
   "cell_type": "code",
   "execution_count": 10,
   "id": "58454e1b",
   "metadata": {
    "execution": {
     "iopub.execute_input": "2022-06-11T13:36:54.459003Z",
     "iopub.status.busy": "2022-06-11T13:36:54.458609Z",
     "iopub.status.idle": "2022-06-11T13:36:54.698669Z",
     "shell.execute_reply": "2022-06-11T13:36:54.697763Z"
    },
    "papermill": {
     "duration": 0.24773,
     "end_time": "2022-06-11T13:36:54.700675",
     "exception": false,
     "start_time": "2022-06-11T13:36:54.452945",
     "status": "completed"
    },
    "tags": []
   },
   "outputs": [
    {
     "data": {
      "image/png": "[encoded data removed]",
      "text/plain": [
       "<Figure size 864x576 with 1 Axes>"
      ]
     },
     "metadata": {
      "needs_background": "light"
     },
     "output_type": "display_data"
    }
   ],
   "source": [
    "import matplotlib.pyplot as plt\n",
    "df.Daily_Customer_Count.hist(bins = 50, figsize=(12,8))\n",
    "plt.show()"
   ]
  },
  {
   "cell_type": "code",
   "execution_count": 11,
   "id": "503eb742",
   "metadata": {
    "execution": {
     "iopub.execute_input": "2022-06-11T13:36:54.712487Z",
     "iopub.status.busy": "2022-06-11T13:36:54.711798Z",
     "iopub.status.idle": "2022-06-11T13:36:55.557587Z",
     "shell.execute_reply": "2022-06-11T13:36:55.556717Z"
    },
    "papermill": {
     "duration": 0.853597,
     "end_time": "2022-06-11T13:36:55.559381",
     "exception": false,
     "start_time": "2022-06-11T13:36:54.705784",
     "status": "completed"
    },
    "tags": []
   },
   "outputs": [
    {
     "data": {
      "image/png": "[encoded data removed]",
      "text/plain": [
       "<Figure size 864x576 with 9 Axes>"
      ]
     },
     "metadata": {
      "needs_background": "light"
     },
     "output_type": "display_data"
    }
   ],
   "source": [
    "df.hist(figsize=(12,8));\n",
    "plt.grid(False)"
   ]
  },
  {
   "cell_type": "code",
   "execution_count": 12,
   "id": "bcdf43ce",
   "metadata": {
    "execution": {
     "iopub.execute_input": "2022-06-11T13:36:55.572021Z",
     "iopub.status.busy": "2022-06-11T13:36:55.571665Z",
     "iopub.status.idle": "2022-06-11T13:36:55.581362Z",
     "shell.execute_reply": "2022-06-11T13:36:55.580358Z"
    },
    "papermill": {
     "duration": 0.018529,
     "end_time": "2022-06-11T13:36:55.583635",
     "exception": false,
     "start_time": "2022-06-11T13:36:55.565106",
     "status": "completed"
    },
    "tags": []
   },
   "outputs": [
    {
     "name": "stdout",
     "output_type": "stream",
     "text": [
      "avg_daily_sales                  1.000000\n",
      "Store_Sales                      1.000000\n",
      "avg_customer_spend_day           0.139546\n",
      "avg_customer_spend_month         0.139546\n",
      "Items_Available                  0.098849\n",
      "Store_Area                       0.097474\n",
      "Store ID                         0.071486\n",
      "Daily_Customer_Count             0.008629\n",
      "total_monthly_customers_count    0.008629\n",
      "Name: Store_Sales, dtype: float64 \n",
      "\n"
     ]
    }
   ],
   "source": [
    "correlation = df.corr()\n",
    "print(correlation['Store_Sales'].sort_values(ascending = False),'\\n')"
   ]
  },
  {
   "cell_type": "code",
   "execution_count": 13,
   "id": "d163ccb9",
   "metadata": {
    "execution": {
     "iopub.execute_input": "2022-06-11T13:36:55.596725Z",
     "iopub.status.busy": "2022-06-11T13:36:55.596079Z",
     "iopub.status.idle": "2022-06-11T13:36:56.176403Z",
     "shell.execute_reply": "2022-06-11T13:36:56.175518Z"
    },
    "papermill": {
     "duration": 0.589592,
     "end_time": "2022-06-11T13:36:56.179192",
     "exception": false,
     "start_time": "2022-06-11T13:36:55.589600",
     "status": "completed"
    },
    "tags": []
   },
   "outputs": [
    {
     "name": "stdout",
     "output_type": "stream",
     "text": [
      "Index(['avg_daily_sales', 'Store_Sales', 'avg_customer_spend_day',\n",
      "       'avg_customer_spend_month', 'Items_Available', 'Store_Area',\n",
      "       'Store ID ', 'Daily_Customer_Count', 'total_monthly_customers_count'],\n",
      "      dtype='object')\n"
     ]
    },
    {
     "data": {
      "image/png": "[encoded data removed]",
      "text/plain": [
       "<Figure size 1008x864 with 2 Axes>"
      ]
     },
     "metadata": {
      "needs_background": "light"
     },
     "output_type": "display_data"
    }
   ],
   "source": [
    "k= 10\n",
    "cols = correlation.nlargest(k,'Store_Sales')['Store_Sales'].index\n",
    "print(cols)\n",
    "cm = np.corrcoef(df[cols].values.T)\n",
    "f , ax = plt.subplots(figsize = (14,12))\n",
    "sns.heatmap(cm, vmax=.8, linewidths=0.01,square=True,annot=True,cmap=\"YlGnBu\" ,\n",
    " linecolor=\"b\",xticklabels = cols.values ,annot_kws = {'size':12},yticklabels = cols.values)\n",
    "plt.show()"
   ]
  },
  {
   "cell_type": "code",
   "execution_count": 14,
   "id": "40219638",
   "metadata": {
    "execution": {
     "iopub.execute_input": "2022-06-11T13:36:56.193978Z",
     "iopub.status.busy": "2022-06-11T13:36:56.193642Z",
     "iopub.status.idle": "2022-06-11T13:36:56.364645Z",
     "shell.execute_reply": "2022-06-11T13:36:56.363958Z"
    },
    "papermill": {
     "duration": 0.180575,
     "end_time": "2022-06-11T13:36:56.366536",
     "exception": false,
     "start_time": "2022-06-11T13:36:56.185961",
     "status": "completed"
    },
    "tags": []
   },
   "outputs": [
    {
     "data": {
      "image/png": "[encoded data removed]",
      "text/plain": [
       "<Figure size 864x576 with 1 Axes>"
      ]
     },
     "metadata": {
      "needs_background": "light"
     },
     "output_type": "display_data"
    }
   ],
   "source": [
    "Yfac = df[\"Store_Sales\"]\n",
    "Xfac = df[\"Daily_Customer_Count\"]\n",
    "plt.figure(figsize=(12,8))\n",
    "plt.scatter(Xfac,Yfac,s=15)\n",
    "plt.xlabel('Count of Customers')\n",
    "plt.ylabel('Sales in $')\n",
    "plt.title('Customers & Sales of All Stores')\n",
    "plt.xlim(200, 2000)\n",
    "plt.yscale(\"linear\")\n",
    "plt.grid(True)"
   ]
  },
  {
   "cell_type": "code",
   "execution_count": 15,
   "id": "f54a5154",
   "metadata": {
    "execution": {
     "iopub.execute_input": "2022-06-11T13:36:56.383115Z",
     "iopub.status.busy": "2022-06-11T13:36:56.382761Z",
     "iopub.status.idle": "2022-06-11T13:36:56.522845Z",
     "shell.execute_reply": "2022-06-11T13:36:56.522260Z"
    },
    "papermill": {
     "duration": 0.152606,
     "end_time": "2022-06-11T13:36:56.527002",
     "exception": false,
     "start_time": "2022-06-11T13:36:56.374396",
     "status": "completed"
    },
    "tags": []
   },
   "outputs": [
    {
     "data": {
      "text/plain": [
       "[]"
      ]
     },
     "execution_count": 15,
     "metadata": {},
     "output_type": "execute_result"
    },
    {
     "data": {
      "image/png": "[encoded data removed]",
      "text/plain": [
       "<Figure size 864x576 with 1 Axes>"
      ]
     },
     "metadata": {
      "needs_background": "light"
     },
     "output_type": "display_data"
    }
   ],
   "source": [
    "x = df[['Items_Available']]\n",
    "y = df[['Store_Sales']]\n",
    "_ = plt.figure(figsize=(12,8))  \n",
    "_ = plt.scatter(x , y)\n",
    "_ = plt.xlabel('Items Available')\n",
    "_ = plt.ylabel('Sales')\n",
    "_ = plt.xticks(np.arange(0, 2800 , step = 200)) \n",
    "_ = plt.yticks(np.arange(0 ,120000 , step = 20000), ['20K' , '40K' , '60K' , '80K' , '100K' , '120K']) \n",
    "\n",
    "plt.plot()"
   ]
  },
  {
   "cell_type": "code",
   "execution_count": 16,
   "id": "0e78da5a",
   "metadata": {
    "execution": {
     "iopub.execute_input": "2022-06-11T13:36:56.561952Z",
     "iopub.status.busy": "2022-06-11T13:36:56.560657Z",
     "iopub.status.idle": "2022-06-11T13:36:56.585379Z",
     "shell.execute_reply": "2022-06-11T13:36:56.584447Z"
    },
    "papermill": {
     "duration": 0.044052,
     "end_time": "2022-06-11T13:36:56.587217",
     "exception": false,
     "start_time": "2022-06-11T13:36:56.543165",
     "status": "completed"
    },
    "tags": []
   },
   "outputs": [
    {
     "data": {
      "text/html": [
       "<div>\n",
       "<style scoped>\n",
       "    .dataframe tbody tr th:only-of-type {\n",
       "        vertical-align: middle;\n",
       "    }\n",
       "\n",
       "    .dataframe tbody tr th {\n",
       "        vertical-align: top;\n",
       "    }\n",
       "\n",
       "    .dataframe thead th {\n",
       "        text-align: right;\n",
       "    }\n",
       "</style>\n",
       "<table border=\"1\" class=\"dataframe\">\n",
       "  <thead>\n",
       "    <tr style=\"text-align: right;\">\n",
       "      <th></th>\n",
       "      <th>Store ID</th>\n",
       "      <th>Store_Area</th>\n",
       "      <th>Items_Available</th>\n",
       "      <th>Daily_Customer_Count</th>\n",
       "      <th>Store_Sales</th>\n",
       "      <th>total_monthly_customers_count</th>\n",
       "      <th>avg_customer_spend_day</th>\n",
       "      <th>avg_customer_spend_month</th>\n",
       "      <th>avg_daily_sales</th>\n",
       "    </tr>\n",
       "  </thead>\n",
       "  <tbody>\n",
       "    <tr>\n",
       "      <th>649</th>\n",
       "      <td>650</td>\n",
       "      <td>1989</td>\n",
       "      <td>2414</td>\n",
       "      <td>860</td>\n",
       "      <td>116320</td>\n",
       "      <td>25800</td>\n",
       "      <td>4.508527</td>\n",
       "      <td>135.255814</td>\n",
       "      <td>3877.333333</td>\n",
       "    </tr>\n",
       "    <tr>\n",
       "      <th>868</th>\n",
       "      <td>869</td>\n",
       "      <td>1775</td>\n",
       "      <td>2104</td>\n",
       "      <td>980</td>\n",
       "      <td>105150</td>\n",
       "      <td>29400</td>\n",
       "      <td>3.576531</td>\n",
       "      <td>107.295918</td>\n",
       "      <td>3505.000000</td>\n",
       "    </tr>\n",
       "    <tr>\n",
       "      <th>432</th>\n",
       "      <td>433</td>\n",
       "      <td>1365</td>\n",
       "      <td>1638</td>\n",
       "      <td>680</td>\n",
       "      <td>102920</td>\n",
       "      <td>20400</td>\n",
       "      <td>5.045098</td>\n",
       "      <td>151.352941</td>\n",
       "      <td>3430.666667</td>\n",
       "    </tr>\n",
       "    <tr>\n",
       "      <th>408</th>\n",
       "      <td>409</td>\n",
       "      <td>1303</td>\n",
       "      <td>1587</td>\n",
       "      <td>1310</td>\n",
       "      <td>102310</td>\n",
       "      <td>39300</td>\n",
       "      <td>2.603308</td>\n",
       "      <td>78.099237</td>\n",
       "      <td>3410.333333</td>\n",
       "    </tr>\n",
       "    <tr>\n",
       "      <th>758</th>\n",
       "      <td>759</td>\n",
       "      <td>1486</td>\n",
       "      <td>1758</td>\n",
       "      <td>820</td>\n",
       "      <td>101820</td>\n",
       "      <td>24600</td>\n",
       "      <td>4.139024</td>\n",
       "      <td>124.170732</td>\n",
       "      <td>3394.000000</td>\n",
       "    </tr>\n",
       "    <tr>\n",
       "      <th>...</th>\n",
       "      <td>...</td>\n",
       "      <td>...</td>\n",
       "      <td>...</td>\n",
       "      <td>...</td>\n",
       "      <td>...</td>\n",
       "      <td>...</td>\n",
       "      <td>...</td>\n",
       "      <td>...</td>\n",
       "      <td>...</td>\n",
       "    </tr>\n",
       "    <tr>\n",
       "      <th>352</th>\n",
       "      <td>353</td>\n",
       "      <td>1397</td>\n",
       "      <td>1686</td>\n",
       "      <td>850</td>\n",
       "      <td>21300</td>\n",
       "      <td>25500</td>\n",
       "      <td>0.835294</td>\n",
       "      <td>25.058824</td>\n",
       "      <td>710.000000</td>\n",
       "    </tr>\n",
       "    <tr>\n",
       "      <th>593</th>\n",
       "      <td>594</td>\n",
       "      <td>1624</td>\n",
       "      <td>1946</td>\n",
       "      <td>870</td>\n",
       "      <td>20270</td>\n",
       "      <td>26100</td>\n",
       "      <td>0.776628</td>\n",
       "      <td>23.298851</td>\n",
       "      <td>675.666667</td>\n",
       "    </tr>\n",
       "    <tr>\n",
       "      <th>775</th>\n",
       "      <td>776</td>\n",
       "      <td>1537</td>\n",
       "      <td>1877</td>\n",
       "      <td>660</td>\n",
       "      <td>17670</td>\n",
       "      <td>19800</td>\n",
       "      <td>0.892424</td>\n",
       "      <td>26.772727</td>\n",
       "      <td>589.000000</td>\n",
       "    </tr>\n",
       "    <tr>\n",
       "      <th>852</th>\n",
       "      <td>853</td>\n",
       "      <td>1477</td>\n",
       "      <td>1790</td>\n",
       "      <td>880</td>\n",
       "      <td>16370</td>\n",
       "      <td>26400</td>\n",
       "      <td>0.620076</td>\n",
       "      <td>18.602273</td>\n",
       "      <td>545.666667</td>\n",
       "    </tr>\n",
       "    <tr>\n",
       "      <th>31</th>\n",
       "      <td>32</td>\n",
       "      <td>1250</td>\n",
       "      <td>1508</td>\n",
       "      <td>990</td>\n",
       "      <td>14920</td>\n",
       "      <td>29700</td>\n",
       "      <td>0.502357</td>\n",
       "      <td>15.070707</td>\n",
       "      <td>497.333333</td>\n",
       "    </tr>\n",
       "  </tbody>\n",
       "</table>\n",
       "<p>896 rows × 9 columns</p>\n",
       "</div>"
      ],
      "text/plain": [
       "     Store ID   Store_Area  Items_Available  Daily_Customer_Count  \\\n",
       "649        650        1989             2414                   860   \n",
       "868        869        1775             2104                   980   \n",
       "432        433        1365             1638                   680   \n",
       "408        409        1303             1587                  1310   \n",
       "758        759        1486             1758                   820   \n",
       "..         ...         ...              ...                   ...   \n",
       "352        353        1397             1686                   850   \n",
       "593        594        1624             1946                   870   \n",
       "775        776        1537             1877                   660   \n",
       "852        853        1477             1790                   880   \n",
       "31          32        1250             1508                   990   \n",
       "\n",
       "     Store_Sales  total_monthly_customers_count  avg_customer_spend_day  \\\n",
       "649       116320                          25800                4.508527   \n",
       "868       105150                          29400                3.576531   \n",
       "432       102920                          20400                5.045098   \n",
       "408       102310                          39300                2.603308   \n",
       "758       101820                          24600                4.139024   \n",
       "..           ...                            ...                     ...   \n",
       "352        21300                          25500                0.835294   \n",
       "593        20270                          26100                0.776628   \n",
       "775        17670                          19800                0.892424   \n",
       "852        16370                          26400                0.620076   \n",
       "31         14920                          29700                0.502357   \n",
       "\n",
       "     avg_customer_spend_month  avg_daily_sales  \n",
       "649                135.255814      3877.333333  \n",
       "868                107.295918      3505.000000  \n",
       "432                151.352941      3430.666667  \n",
       "408                 78.099237      3410.333333  \n",
       "758                124.170732      3394.000000  \n",
       "..                        ...              ...  \n",
       "352                 25.058824       710.000000  \n",
       "593                 23.298851       675.666667  \n",
       "775                 26.772727       589.000000  \n",
       "852                 18.602273       545.666667  \n",
       "31                  15.070707       497.333333  \n",
       "\n",
       "[896 rows x 9 columns]"
      ]
     },
     "execution_count": 16,
     "metadata": {},
     "output_type": "execute_result"
    }
   ],
   "source": [
    "df.sort_values('Store_Sales', ascending=False)"
   ]
  },
  {
   "cell_type": "markdown",
   "id": "90c09ea8",
   "metadata": {
    "papermill": {
     "duration": 0.008192,
     "end_time": "2022-06-11T13:36:56.603994",
     "exception": false,
     "start_time": "2022-06-11T13:36:56.595802",
     "status": "completed"
    },
    "tags": []
   },
   "source": [
    "**Most of the customers spend less than 10 dollars in a store per day while they spend below 200 dollars in a store per month**"
   ]
  },
  {
   "cell_type": "markdown",
   "id": "c28aa505",
   "metadata": {
    "papermill": {
     "duration": 0.008209,
     "end_time": "2022-06-11T13:36:56.620714",
     "exception": false,
     "start_time": "2022-06-11T13:36:56.612505",
     "status": "completed"
    },
    "tags": []
   },
   "source": [
    "**Upvote if you like it and Please check out my other codes :)**"
   ]
  }
 ],
 "metadata": {
  "kernelspec": {
   "display_name": "Python 3",
   "language": "python",
   "name": "python3"
  },
  "language_info": {
   "codemirror_mode": {
    "name": "ipython",
    "version": 3
   },
   "file_extension": ".py",
   "mimetype": "text/x-python",
   "name": "python",
   "nbconvert_exporter": "python",
   "pygments_lexer": "ipython3",
   "version": "3.7.12"
  },
  "papermill": {
   "default_parameters": {},
   "duration": 12.371092,
   "end_time": "2022-06-11T13:36:57.249199",
   "environment_variables": {},
   "exception": null,
   "input_path": "__notebook__.ipynb",
   "output_path": "__notebook__.ipynb",
   "parameters": {},
   "start_time": "2022-06-11T13:36:44.878107",
   "version": "2.3.4"
  }
 },
 "nbformat": 4,
 "nbformat_minor": 5
}
